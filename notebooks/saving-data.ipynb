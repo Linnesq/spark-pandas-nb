{
 "cells": [
  {
   "cell_type": "markdown",
   "id": "fb584f96",
   "metadata": {},
   "source": [
    "# Saving Data\n",
    "\n",
    "## First, load some data ..."
   ]
  },
  {
   "cell_type": "code",
   "execution_count": 1,
   "id": "98f16f7f",
   "metadata": {},
   "outputs": [],
   "source": [
    "from pyspark.sql.functions import *\n",
    "from pyspark.sql import SparkSession\n",
    "import os\n",
    "spark = SparkSession.builder.master(\"local\").getOrCreate()"
   ]
  },
  {
   "cell_type": "code",
   "execution_count": 2,
   "id": "784e8260",
   "metadata": {},
   "outputs": [],
   "source": [
    "DATA_DIR = os.path.abspath(os.path.join(os.getcwd(), \"..\", \"data\"))"
   ]
  },
  {
   "cell_type": "code",
   "execution_count": 17,
   "id": "99abad99",
   "metadata": {},
   "outputs": [
    {
     "name": "stdout",
     "output_type": "stream",
     "text": [
      "+---+---------+--------+----------+\n",
      "|id |firstname|lastname|dob       |\n",
      "+---+---------+--------+----------+\n",
      "|1  |John     |Smith   |2001-01-01|\n",
      "|2  |Kim      |Melly   |1998-08-28|\n",
      "+---+---------+--------+----------+\n",
      "\n",
      "+----------+-------+-----------+-------------+----+---------+\n",
      "|date      |m_title|m_body     |m_attachments|user|recipient|\n",
      "+----------+-------+-----------+-------------+----+---------+\n",
      "|2022-01-03|Title  |Hello World|null         |1   |p@ch.com |\n",
      "|2022-01-02|Title 2|Hello World|null         |1   |d@ch.com |\n",
      "+----------+-------+-----------+-------------+----+---------+\n",
      "\n",
      "root\n",
      " |-- id: string (nullable = true)\n",
      " |-- firstname: string (nullable = true)\n",
      " |-- lastname: string (nullable = true)\n",
      " |-- dob: string (nullable = true)\n",
      "\n"
     ]
    }
   ],
   "source": [
    "users = spark.read.option(\"header\", \"true\").csv(f\"{DATA_DIR}/users.csv\")\n",
    "messages = spark.read.option(\"header\", \"true\").csv(f\"{DATA_DIR}/messages.csv\")\n",
    "users.show(10, False)\n",
    "messages.show(10, False)\n",
    "users.printSchema()"
   ]
  },
  {
   "cell_type": "markdown",
   "id": "2a744b08",
   "metadata": {},
   "source": [
    "## Write to parquet ..."
   ]
  },
  {
   "cell_type": "code",
   "execution_count": 25,
   "id": "9b508aca",
   "metadata": {},
   "outputs": [],
   "source": [
    "users_path = f\"{DATA_DIR}/parquet/users\"\n",
    "messages_path = f\"{DATA_DIR}/parquet/messages\"\n",
    "\n",
    "(\n",
    "    users\n",
    "    .select(\"id\", \"firstname\", \"lastname\", col(\"dob\").cast(\"date\"))\n",
    "    .write.parquet(users_path, mode=\"overwrite\")\n",
    ")\n",
    "\n",
    "(\n",
    "    messages\n",
    "    .withColumn(\"dt\", col(\"date\").cast(\"date\"))\n",
    "    .drop(\"date\")\n",
    "    .write.parquet(messages_path, mode=\"overwrite\")\n",
    ")"
   ]
  },
  {
   "cell_type": "code",
   "execution_count": 28,
   "id": "411f00ab",
   "metadata": {},
   "outputs": [
    {
     "name": "stdout",
     "output_type": "stream",
     "text": [
      "root\n",
      " |-- id: string (nullable = true)\n",
      " |-- firstname: string (nullable = true)\n",
      " |-- lastname: string (nullable = true)\n",
      " |-- dob: date (nullable = true)\n",
      "\n",
      "root\n",
      " |-- m_title: string (nullable = true)\n",
      " |-- m_body: string (nullable = true)\n",
      " |-- m_attachments: string (nullable = true)\n",
      " |-- user: string (nullable = true)\n",
      " |-- recipient: string (nullable = true)\n",
      " |-- dt: date (nullable = true)\n",
      "\n"
     ]
    },
    {
     "data": {
      "text/plain": [
       "['._SUCCESS.crc',\n",
       " '.part-00000-9764237b-2992-4dd5-ae43-fb5bc74b7d9d-c000.snappy.parquet.crc',\n",
       " '_SUCCESS',\n",
       " 'part-00000-9764237b-2992-4dd5-ae43-fb5bc74b7d9d-c000.snappy.parquet']"
      ]
     },
     "execution_count": 28,
     "metadata": {},
     "output_type": "execute_result"
    }
   ],
   "source": [
    "spark.read.parquet(users_path).printSchema()\n",
    "spark.read.parquet(messages_path).printSchema()\n",
    "os.listdir(users_path)"
   ]
  },
  {
   "cell_type": "markdown",
   "id": "edcbeefa",
   "metadata": {},
   "source": [
    "## ... parquet with partitions ..."
   ]
  }
 ],
 "metadata": {
  "kernelspec": {
   "display_name": "Python 3 (ipykernel)",
   "language": "python",
   "name": "python3"
  },
  "language_info": {
   "codemirror_mode": {
    "name": "ipython",
    "version": 3
   },
   "file_extension": ".py",
   "mimetype": "text/x-python",
   "name": "python",
   "nbconvert_exporter": "python",
   "pygments_lexer": "ipython3",
   "version": "3.9.12"
  }
 },
 "nbformat": 4,
 "nbformat_minor": 5
}
