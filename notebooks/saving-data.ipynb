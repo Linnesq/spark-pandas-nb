{
 "cells": [
  {
   "cell_type": "markdown",
   "id": "fb584f96",
   "metadata": {},
   "source": [
    "# Saving Data\n",
    "\n",
    "## First, load some data ..."
   ]
  },
  {
   "cell_type": "code",
   "execution_count": 2,
   "id": "98f16f7f",
   "metadata": {},
   "outputs": [],
   "source": [
    "from pyspark.sql.functions import *\n",
    "from pyspark.sql import SparkSession\n",
    "import os\n",
    "spark = SparkSession.builder.master(\"local\").getOrCreate()\n",
    "DATA_DIR = os.path.abspath(os.path.join(os.getcwd(), \"..\", \"data\"))"
   ]
  },
  {
   "cell_type": "code",
   "execution_count": 4,
   "id": "99abad99",
   "metadata": {},
   "outputs": [
    {
     "name": "stdout",
     "output_type": "stream",
     "text": [
      "+---+---------+--------+----------+\n",
      "|id |firstname|lastname|dob       |\n",
      "+---+---------+--------+----------+\n",
      "|1  |John     |Smith   |2001-01-01|\n",
      "|2  |Kim      |Melly   |1998-08-28|\n",
      "+---+---------+--------+----------+\n",
      "\n",
      "+----------+-------+-----------+-------------+----+---------+\n",
      "|date      |m_title|m_body     |m_attachments|user|recipient|\n",
      "+----------+-------+-----------+-------------+----+---------+\n",
      "|2022-01-03|Title  |Hello World|null         |2   |p@ch.com |\n",
      "|2022-01-02|Title 2|Hello World|null         |3   |d@ch.com |\n",
      "+----------+-------+-----------+-------------+----+---------+\n",
      "\n",
      "root\n",
      " |-- id: string (nullable = true)\n",
      " |-- firstname: string (nullable = true)\n",
      " |-- lastname: string (nullable = true)\n",
      " |-- dob: string (nullable = true)\n",
      "\n"
     ]
    }
   ],
   "source": [
    "users = spark.read.option(\"header\", \"true\").csv(f\"{DATA_DIR}/users.csv\")\n",
    "messages = spark.read.option(\"header\", \"true\").csv(f\"{DATA_DIR}/messages.csv\")\n",
    "users.show(10, False)\n",
    "messages.show(10, False)\n",
    "users.printSchema()"
   ]
  },
  {
   "cell_type": "markdown",
   "id": "2a744b08",
   "metadata": {},
   "source": [
    "## Write to parquet ..."
   ]
  },
  {
   "cell_type": "code",
   "execution_count": 6,
   "id": "1d323871",
   "metadata": {},
   "outputs": [],
   "source": [
    "users_path = f\"{DATA_DIR}/parquet/users\"\n",
    "messages_path = f\"{DATA_DIR}/parquet/messages\"\n",
    "\n",
    "(\n",
    "    users\n",
    "    .select(\"id\", \"firstname\", \"lastname\", col(\"dob\").cast(\"date\"))\n",
    "    .write.parquet(users_path, mode=\"overwrite\")\n",
    ")\n",
    "\n",
    "(\n",
    "    messages\n",
    "    .withColumn(\"dt\", col(\"date\").cast(\"date\"))\n",
    "    .drop(\"date\")\n",
    "    .write.parquet(messages_path, mode=\"overwrite\")\n",
    ")"
   ]
  },
  {
   "cell_type": "code",
   "execution_count": 7,
   "id": "cc7fea35",
   "metadata": {},
   "outputs": [
    {
     "name": "stdout",
     "output_type": "stream",
     "text": [
      "root\n",
      " |-- id: string (nullable = true)\n",
      " |-- firstname: string (nullable = true)\n",
      " |-- lastname: string (nullable = true)\n",
      " |-- dob: date (nullable = true)\n",
      "\n",
      "root\n",
      " |-- m_title: string (nullable = true)\n",
      " |-- m_body: string (nullable = true)\n",
      " |-- m_attachments: string (nullable = true)\n",
      " |-- user: string (nullable = true)\n",
      " |-- recipient: string (nullable = true)\n",
      " |-- dt: date (nullable = true)\n",
      "\n"
     ]
    },
    {
     "data": {
      "text/plain": [
       "['._SUCCESS.crc',\n",
       " '.part-00000-346f0b3a-e78e-4b9b-836a-c6c5ab84b430-c000.snappy.parquet.crc',\n",
       " '_SUCCESS',\n",
       " 'part-00000-346f0b3a-e78e-4b9b-836a-c6c5ab84b430-c000.snappy.parquet']"
      ]
     },
     "execution_count": 7,
     "metadata": {},
     "output_type": "execute_result"
    }
   ],
   "source": [
    "spark.read.parquet(users_path).printSchema()\n",
    "spark.read.parquet(messages_path).printSchema()\n",
    "os.listdir(users_path)"
   ]
  },
  {
   "cell_type": "markdown",
   "id": "edcbeefa",
   "metadata": {},
   "source": [
    "## Writing parquet into partitions\n",
    "\n",
    "Write the messages data, partitioned by message `dt`"
   ]
  },
  {
   "cell_type": "code",
   "execution_count": 11,
   "id": "dcd61987",
   "metadata": {},
   "outputs": [
    {
     "data": {
      "text/plain": [
       "['._SUCCESS.crc', '_SUCCESS', 'dt=2022-01-02', 'dt=2022-01-03']"
      ]
     },
     "execution_count": 11,
     "metadata": {},
     "output_type": "execute_result"
    }
   ],
   "source": [
    "write_path = f\"{DATA_DIR}/tmp/messages\"\n",
    "messages = spark.read.parquet(messages_path)\n",
    "messages.write.partitionBy(\"dt\").mode(\"overwrite\").parquet(write_path)\n",
    "os.listdir(write_path)\n"
   ]
  },
  {
   "cell_type": "code",
   "execution_count": 12,
   "id": "6a89ac32",
   "metadata": {},
   "outputs": [
    {
     "name": "stdout",
     "output_type": "stream",
     "text": [
      "+-------+-----------+-------------+----+---------+\n",
      "|m_title|     m_body|m_attachments|user|recipient|\n",
      "+-------+-----------+-------------+----+---------+\n",
      "|Title 2|Hello World|         null|   3| d@ch.com|\n",
      "+-------+-----------+-------------+----+---------+\n",
      "\n"
     ]
    }
   ],
   "source": [
    "# then to read\n",
    "spark.read.parquet(f\"{DATA_DIR}/tmp/messages/dt=2022-01-02\").show()"
   ]
  },
  {
   "cell_type": "code",
   "execution_count": 13,
   "id": "1dbb8756",
   "metadata": {},
   "outputs": [],
   "source": [
    "# save as ... \n",
    "# json\n",
    "json_path = f\"{DATA_DIR}/tmp/messages-json\"\n",
    "messages.write.format(\"json\").save(json_path)\n",
    "# csv\n",
    "json_path = f\"{DATA_DIR}/tmp/messages-csv\"\n",
    "messages.write.format(\"csv\").save(json_path)"
   ]
  },
  {
   "cell_type": "markdown",
   "id": "99661ae4",
   "metadata": {},
   "source": [
    "which look like\n",
    "\n",
    "```\n",
    "{\"m_title\":\"Title\",\"m_body\":\"Hello World\",\"user\":\"2\",\"recipient\":\"p@ch.com\",\"dt\":\"2022-01-03\"}\n",
    "{\"m_title\":\"Title 2\",\"m_body\":\"Hello World\",\"user\":\"3\",\"recipient\":\"d@ch.com\",\"dt\":\"2022-01-02\"}\n",
    "```\n",
    "\n",
    "and\n",
    "\n",
    "```\n",
    "Title,Hello World,\"\",2,p@ch.com,2022-01-03\n",
    "Title 2,Hello World,\"\",3,d@ch.com,2022-01-02\n",
    "```\n",
    "\n",
    "respectively"
   ]
  },
  {
   "cell_type": "code",
   "execution_count": null,
   "id": "a838248b",
   "metadata": {},
   "outputs": [],
   "source": []
  }
 ],
 "metadata": {
  "kernelspec": {
   "display_name": "Python 3 (ipykernel)",
   "language": "python",
   "name": "python3"
  },
  "language_info": {
   "codemirror_mode": {
    "name": "ipython",
    "version": 3
   },
   "file_extension": ".py",
   "mimetype": "text/x-python",
   "name": "python",
   "nbconvert_exporter": "python",
   "pygments_lexer": "ipython3",
   "version": "3.9.12"
  }
 },
 "nbformat": 4,
 "nbformat_minor": 5
}
