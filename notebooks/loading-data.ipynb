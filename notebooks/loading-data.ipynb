{
 "cells": [
  {
   "cell_type": "code",
   "execution_count": 4,
   "id": "39ec3a2d",
   "metadata": {},
   "outputs": [],
   "source": [
    "import os\n",
    "from pyspark.sql.functions import *\n",
    "from pyspark.sql import SparkSession\n",
    "assert \"JAVA_HOME\" in os.environ, \"Need to start the notebook JAVA on path\"\n",
    "spark = (\n",
    "    SparkSession.builder\n",
    "    .appName(\"local-app\")\n",
    "    .master(\"local\")\n",
    "    .config(\"spark.driver.host\", \"localhost\")\n",
    "    .config(\"spark.sql.session.timeZone\", \"UTC\")\n",
    "    .config(\"spark.sql.shuffle.partitions\", \"1\")\n",
    "    .config(\"spark.master\", \"local[*]\")\n",
    "    .getOrCreate()\n",
    ")\n",
    "DATA_DIR = os.path.abspath(os.path.join(os.getcwd(), \"..\", \"data\"))"
   ]
  },
  {
   "cell_type": "markdown",
   "id": "f802b44e",
   "metadata": {},
   "source": [
    "# Loading Basic CSV into Spark Data Frame"
   ]
  },
  {
   "cell_type": "code",
   "execution_count": 10,
   "id": "842c74d7",
   "metadata": {},
   "outputs": [
    {
     "name": "stdout",
     "output_type": "stream",
     "text": [
      "+----------+-----+---+\n",
      "|      Date| Name|Age|\n",
      "+----------+-----+---+\n",
      "|2022-02-03|Billy| 10|\n",
      "|2022-01-02|Jonny| 77|\n",
      "+----------+-----+---+\n",
      "\n"
     ]
    }
   ],
   "source": [
    "simple_csv_df = spark.read.option(\"header\", \"true\").csv(f\"{DATA_DIR}/simple.csv\")\n",
    "simple_csv_df.show()"
   ]
  },
  {
   "cell_type": "markdown",
   "id": "1d284d78",
   "metadata": {},
   "source": [
    "# Loading JSON data into Spark Data Frame\n",
    "\n",
    "Where the jsonfile is multiline\n"
   ]
  },
  {
   "cell_type": "code",
   "execution_count": 11,
   "id": "3ff295e2",
   "metadata": {},
   "outputs": [
    {
     "name": "stdout",
     "output_type": "stream",
     "text": [
      "+---------------+------+-------+\n",
      "|        hobbies|  name|  place|\n",
      "+---------------+------+-------+\n",
      "|      [writing]| Ayaan|Somalia|\n",
      "|[writing, yoga]|Briget|    USA|\n",
      "+---------------+------+-------+\n",
      "\n"
     ]
    }
   ],
   "source": [
    "simple_json_df = (\n",
    "    spark.read\n",
    "    .option(\"multiline\", \"true\")\n",
    "    .json(f\"{DATA_DIR}/simple.json\")\n",
    ")\n",
    "simple_json_df.show()"
   ]
  },
  {
   "cell_type": "markdown",
   "id": "7c978cdb",
   "metadata": {},
   "source": [
    "# Loading a Dict into a Spark Data Frame\n",
    "\n",
    "We'll need to add a schema, which introduces some of the Spark types"
   ]
  },
  {
   "cell_type": "code",
   "execution_count": 5,
   "id": "f5109508",
   "metadata": {},
   "outputs": [
    {
     "name": "stdout",
     "output_type": "stream",
     "text": [
      "+--------+--------+\n",
      "|   state| capitol|\n",
      "+--------+--------+\n",
      "|New York|  Albany|\n",
      "|Virginia|Richmond|\n",
      "+--------+--------+\n",
      "\n"
     ]
    }
   ],
   "source": [
    "data_dict_list = [dict(state=\"New York\", capitol=\"Albany\"), dict(state=\"Virginia\", capitol=\"Richmond\")]\n",
    "from pyspark.sql.types import StructType, StructField, StringType\n",
    "states_schema = StructType([\n",
    "    StructField(\"state\", StringType(), True), StructField(\"capitol\", StringType(), True)\n",
    "])\n",
    "dict_df = spark.createDataFrame(data=data_dict_list, schema=states_schema)\n",
    "dict_df.show()"
   ]
  },
  {
   "cell_type": "code",
   "execution_count": null,
   "id": "99aa0198",
   "metadata": {},
   "outputs": [],
   "source": []
  }
 ],
 "metadata": {
  "kernelspec": {
   "display_name": "Python 3 (ipykernel)",
   "language": "python",
   "name": "python3"
  },
  "language_info": {
   "codemirror_mode": {
    "name": "ipython",
    "version": 3
   },
   "file_extension": ".py",
   "mimetype": "text/x-python",
   "name": "python",
   "nbconvert_exporter": "python",
   "pygments_lexer": "ipython3",
   "version": "3.9.2"
  }
 },
 "nbformat": 4,
 "nbformat_minor": 5
}
