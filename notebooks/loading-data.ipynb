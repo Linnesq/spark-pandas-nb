{
 "cells": [
  {
   "cell_type": "code",
   "execution_count": 3,
   "id": "39ec3a2d",
   "metadata": {},
   "outputs": [],
   "source": [
    "import os\n",
    "from pyspark.sql.functions import *\n",
    "from pyspark.sql import SparkSession\n",
    "# assert \"JAVA_HOME\" in os.environ, \"Need to start the notebook with JAVA_HOME on path\"\n",
    "spark = (\n",
    "    SparkSession.builder\n",
    "    .appName(\"local-app\")\n",
    "    .master(\"local\")\n",
    "    .config(\"spark.driver.host\", \"localhost\")\n",
    "    .config(\"spark.sql.session.timeZone\", \"UTC\")\n",
    "    .config(\"spark.sql.shuffle.partitions\", \"1\")\n",
    "    .config(\"spark.master\", \"local[*]\")\n",
    "    .getOrCreate()\n",
    ")\n",
    "DATA_DIR = os.path.abspath(os.path.join(os.getcwd(), \"..\", \"data\"))"
   ]
  },
  {
   "cell_type": "markdown",
   "id": "f802b44e",
   "metadata": {},
   "source": [
    "# Loading CSV into Spark Data Frame"
   ]
  },
  {
   "cell_type": "code",
   "execution_count": 4,
   "id": "842c74d7",
   "metadata": {},
   "outputs": [
    {
     "name": "stdout",
     "output_type": "stream",
     "text": [
      "+----------+-----+---+\n",
      "|      Date| Name|Age|\n",
      "+----------+-----+---+\n",
      "|2022-02-03|Billy| 10|\n",
      "|2022-01-02|Jonny| 77|\n",
      "+----------+-----+---+\n",
      "\n"
     ]
    }
   ],
   "source": [
    "simple_csv_df = spark.read.option(\"header\", \"true\").csv(f\"{DATA_DIR}/simple.csv\")\n",
    "simple_csv_df.show()"
   ]
  },
  {
   "cell_type": "markdown",
   "id": "1d284d78",
   "metadata": {},
   "source": [
    "# Loading JSON data into Spark Data Frame\n",
    "\n",
    "Where the jsonfile is multiline\n"
   ]
  },
  {
   "cell_type": "code",
   "execution_count": 5,
   "id": "3ff295e2",
   "metadata": {},
   "outputs": [
    {
     "name": "stdout",
     "output_type": "stream",
     "text": [
      "+---------------+------+-------+\n",
      "|        hobbies|  name|  place|\n",
      "+---------------+------+-------+\n",
      "|      [writing]| Ayaan|Somalia|\n",
      "|[writing, yoga]|Briget|    USA|\n",
      "+---------------+------+-------+\n",
      "\n"
     ]
    }
   ],
   "source": [
    "simple_json_df = (\n",
    "    spark.read\n",
    "    .option(\"multiline\", \"true\")\n",
    "    .json(f\"{DATA_DIR}/simple.json\")\n",
    ")\n",
    "simple_json_df.show()"
   ]
  },
  {
   "cell_type": "markdown",
   "id": "7c978cdb",
   "metadata": {},
   "source": [
    "# Loading a Dict into a Spark Data Frame\n",
    "\n",
    "We'll need to add a schema, which introduces some of the Spark types"
   ]
  },
  {
   "cell_type": "code",
   "execution_count": 6,
   "id": "f5109508",
   "metadata": {},
   "outputs": [
    {
     "name": "stdout",
     "output_type": "stream",
     "text": [
      "+--------+--------+\n",
      "|   state| capitol|\n",
      "+--------+--------+\n",
      "|New York|  Albany|\n",
      "|Virginia|Richmond|\n",
      "+--------+--------+\n",
      "\n"
     ]
    }
   ],
   "source": [
    "data_dict_list = [dict(state=\"New York\", capitol=\"Albany\"), dict(state=\"Virginia\", capitol=\"Richmond\")]\n",
    "from pyspark.sql.types import StructType, StructField, StringType\n",
    "states_schema = StructType([\n",
    "    StructField(\"state\", StringType(), True), StructField(\"capitol\", StringType(), True)\n",
    "])\n",
    "dict_df = spark.createDataFrame(data=data_dict_list, schema=states_schema)\n",
    "dict_df.show()"
   ]
  },
  {
   "cell_type": "markdown",
   "id": "ade89778",
   "metadata": {},
   "source": [
    "# Loading Typed Rows\n",
    "\n",
    "Using the schema above"
   ]
  },
  {
   "cell_type": "code",
   "execution_count": 7,
   "id": "26276a2b",
   "metadata": {},
   "outputs": [
    {
     "name": "stdout",
     "output_type": "stream",
     "text": [
      "+-------+---------+\n",
      "|state  |capitol  |\n",
      "+-------+---------+\n",
      "|Alaska |Anchorage|\n",
      "|Georgia|Savannah |\n",
      "+-------+---------+\n",
      "\n"
     ]
    }
   ],
   "source": [
    "from pyspark.sql.types import Row\n",
    "\n",
    "rows = [Row(state=x[0], capitol=x[1]) for x in [(\"Alaska\", \"Anchorage\"), (\"Georgia\", \"Savannah\")]]\n",
    "rows_df = spark.createDataFrame(data=rows, schema=states_schema)\n",
    "rows_df.show(4, False)"
   ]
  },
  {
   "cell_type": "markdown",
   "id": "4f7c56a3",
   "metadata": {},
   "source": [
    "# Loading a Table\n",
    "\n",
    "With an intermediate step to create a table"
   ]
  },
  {
   "cell_type": "code",
   "execution_count": 8,
   "id": "ab051eac",
   "metadata": {},
   "outputs": [
    {
     "name": "stdout",
     "output_type": "stream",
     "text": [
      "+--------+--------+\n",
      "|   state| capitol|\n",
      "+--------+--------+\n",
      "|New York|  Albany|\n",
      "|Virginia|Richmond|\n",
      "+--------+--------+\n",
      "\n"
     ]
    }
   ],
   "source": [
    "dict_df.createOrReplaceTempView('tmpTable')\n",
    "table_df = spark.table(\"tmpTable\")\n",
    "table_df.show()\n"
   ]
  },
  {
   "cell_type": "markdown",
   "id": "7e46cff2",
   "metadata": {},
   "source": [
    "# Reading a downloaded CSV file\n",
    "\n",
    "Thanks to [this](https://stackoverflow.com/a/47845360/821169) SO answer"
   ]
  },
  {
   "cell_type": "code",
   "execution_count": 9,
   "id": "73280936",
   "metadata": {},
   "outputs": [
    {
     "name": "stdout",
     "output_type": "stream",
     "text": [
      "+------------+-----+\n",
      "|city        |count|\n",
      "+------------+-----+\n",
      "|Los Angeles |5    |\n",
      "|Chicago     |5    |\n",
      "|Philadelphia|5    |\n",
      "|Jacksonville|4    |\n",
      "|New Orleans |4    |\n",
      "|Portsmouth  |4    |\n",
      "|Baltimore   |4    |\n",
      "|Charlotte   |3    |\n",
      "|Gary        |2    |\n",
      "|Oxnard      |2    |\n",
      "+------------+-----+\n",
      "only showing top 10 rows\n",
      "\n"
     ]
    }
   ],
   "source": [
    "import requests\n",
    "\n",
    "dl = requests.get(\"https://raw.githubusercontent.com/washingtonpost/data-school-shootings/master/school-shootings-data.csv\")\n",
    "lines = dl.text.splitlines()\n",
    "dl_df = spark.read.option(\"header\", \"true\").csv(spark.sparkContext.parallelize(lines))\n",
    "(\n",
    "    dl_df\n",
    "    .groupby(\"city\")\n",
    "    .count()\n",
    "    .orderBy(col(\"count\").desc())\n",
    "    .show(10, False)\n",
    ")"
   ]
  },
  {
   "cell_type": "code",
   "execution_count": 10,
   "id": "df84c2ff",
   "metadata": {},
   "outputs": [],
   "source": [
    "# dl_df.printSchema()"
   ]
  },
  {
   "cell_type": "markdown",
   "id": "edd8c420",
   "metadata": {},
   "source": [
    "# Other `read` options\n",
    "\n",
    "* [Text](https://spark.apache.org/docs/3.0.1/api/python/pyspark.sql.html#pyspark.sql.DataFrameReader.text)\n",
    "* [ORC](https://spark.apache.org/docs/3.0.1/api/python/pyspark.sql.html#pyspark.sql.DataFrameWriter.orc). Also see [Apache ORC](https://orc.apache.org/docs/) format\n"
   ]
  },
  {
   "cell_type": "code",
   "execution_count": 11,
   "id": "a93a81ff",
   "metadata": {},
   "outputs": [
    {
     "name": "stdout",
     "output_type": "stream",
     "text": [
      "+----------+-----+---+\n",
      "|      Date| Name|Age|\n",
      "+----------+-----+---+\n",
      "|2022-02-03|Billy| 10|\n",
      "|2022-01-02|Jonny| 77|\n",
      "+----------+-----+---+\n",
      "\n"
     ]
    }
   ],
   "source": [
    "text = \"\"\"Date,Name,Age\n",
    "2022-02-03,Billy,10\n",
    "2022-01-02,Jonny,77\"\"\"\n",
    "l = text.split(\"\\n\")\n",
    "rdd = spark.sparkContext.parallelize( [x.split(',') for x in l[1:]])\n",
    "ddf = spark.createDataFrame(rdd, [\"Date\",\"Name\",\"Age\"])\n",
    "ddf.show()"
   ]
  },
  {
   "cell_type": "code",
   "execution_count": null,
   "id": "2d531a70",
   "metadata": {},
   "outputs": [],
   "source": []
  }
 ],
 "metadata": {
  "kernelspec": {
   "display_name": "Python 3 (ipykernel)",
   "language": "python",
   "name": "python3"
  },
  "language_info": {
   "codemirror_mode": {
    "name": "ipython",
    "version": 3
   },
   "file_extension": ".py",
   "mimetype": "text/x-python",
   "name": "python",
   "nbconvert_exporter": "python",
   "pygments_lexer": "ipython3",
   "version": "3.9.12"
  }
 },
 "nbformat": 4,
 "nbformat_minor": 5
}
