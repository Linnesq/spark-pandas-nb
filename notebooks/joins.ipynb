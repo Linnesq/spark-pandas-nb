{
 "cells": [
  {
   "cell_type": "code",
   "execution_count": 2,
   "id": "2224bde9",
   "metadata": {},
   "outputs": [],
   "source": [
    "from pyspark.sql.functions import *\n",
    "from pyspark.sql import SparkSession\n",
    "import os\n",
    "spark = SparkSession.builder.master(\"local\").getOrCreate()\n",
    "DATA_DIR = os.path.abspath(os.path.join(os.getcwd(), \"..\", \"data\"))"
   ]
  },
  {
   "cell_type": "code",
   "execution_count": 4,
   "id": "d200edc9",
   "metadata": {},
   "outputs": [
    {
     "name": "stdout",
     "output_type": "stream",
     "text": [
      "+---+---------+--------+----------+\n",
      "|id |firstname|lastname|dob       |\n",
      "+---+---------+--------+----------+\n",
      "|1  |John     |Smith   |2001-01-01|\n",
      "|2  |Kim      |Melly   |1998-08-28|\n",
      "+---+---------+--------+----------+\n",
      "\n",
      "+-------+-----------+-------------+----+---------+----------+\n",
      "|m_title|m_body     |m_attachments|user|recipient|dt        |\n",
      "+-------+-----------+-------------+----+---------+----------+\n",
      "|Title  |Hello World|null         |2   |p@ch.com |2022-01-03|\n",
      "|Title 2|Hello World|null         |3   |d@ch.com |2022-01-02|\n",
      "+-------+-----------+-------------+----+---------+----------+\n",
      "\n"
     ]
    }
   ],
   "source": [
    "users_path = f\"{DATA_DIR}/parquet/users\"\n",
    "messages_path = f\"{DATA_DIR}/parquet/messages\"\n",
    "users = spark.read.parquet(users_path)\n",
    "messages = spark.read.parquet(messages_path)\n",
    "users.show(5, False)\n",
    "messages.show(5, False)"
   ]
  },
  {
   "cell_type": "markdown",
   "id": "a610b2b4",
   "metadata": {},
   "source": [
    "## Inner join\n",
    "\n",
    "Records from both sides where the join key is found"
   ]
  },
  {
   "cell_type": "code",
   "execution_count": 5,
   "id": "f0fbd4f8",
   "metadata": {},
   "outputs": [
    {
     "name": "stdout",
     "output_type": "stream",
     "text": [
      "+-------+-----------+-------------+----+---------+----------+---+---------+--------+----------+\n",
      "|m_title|m_body     |m_attachments|user|recipient|dt        |id |firstname|lastname|dob       |\n",
      "+-------+-----------+-------------+----+---------+----------+---+---------+--------+----------+\n",
      "|Title  |Hello World|null         |2   |p@ch.com |2022-01-03|2  |Kim      |Melly   |1998-08-28|\n",
      "+-------+-----------+-------------+----+---------+----------+---+---------+--------+----------+\n",
      "\n"
     ]
    }
   ],
   "source": [
    "messages.join(users, on=[messages.user == users.id], how=\"inner\").show(5, False)"
   ]
  },
  {
   "cell_type": "markdown",
   "id": "7420a8a7",
   "metadata": {},
   "source": [
    "## Left join\n",
    "\n",
    "Records from left side with data from right side *if the join key matches*, otherwise nulls from right."
   ]
  },
  {
   "cell_type": "code",
   "execution_count": 6,
   "id": "4a27d357",
   "metadata": {},
   "outputs": [
    {
     "name": "stdout",
     "output_type": "stream",
     "text": [
      "+-------+-----------+-------------+----+---------+----------+----+---------+--------+----------+\n",
      "|m_title|m_body     |m_attachments|user|recipient|dt        |id  |firstname|lastname|dob       |\n",
      "+-------+-----------+-------------+----+---------+----------+----+---------+--------+----------+\n",
      "|Title  |Hello World|null         |2   |p@ch.com |2022-01-03|2   |Kim      |Melly   |1998-08-28|\n",
      "|Title 2|Hello World|null         |3   |d@ch.com |2022-01-02|null|null     |null    |null      |\n",
      "+-------+-----------+-------------+----+---------+----------+----+---------+--------+----------+\n",
      "\n"
     ]
    }
   ],
   "source": [
    "messages.join(users, on=[messages.user == users.id], how=\"left\").show(5, False)"
   ]
  },
  {
   "cell_type": "markdown",
   "id": "262b6540",
   "metadata": {},
   "source": [
    "## Right join\n",
    "\n",
    "As the left join, but reversed."
   ]
  },
  {
   "cell_type": "code",
   "execution_count": 7,
   "id": "d706820c",
   "metadata": {},
   "outputs": [
    {
     "name": "stdout",
     "output_type": "stream",
     "text": [
      "+----+---------+--------+----------+-------+-----------+-------------+----+---------+----------+\n",
      "|id  |firstname|lastname|dob       |m_title|m_body     |m_attachments|user|recipient|dt        |\n",
      "+----+---------+--------+----------+-------+-----------+-------------+----+---------+----------+\n",
      "|2   |Kim      |Melly   |1998-08-28|Title  |Hello World|null         |2   |p@ch.com |2022-01-03|\n",
      "|null|null     |null    |null      |Title 2|Hello World|null         |3   |d@ch.com |2022-01-02|\n",
      "+----+---------+--------+----------+-------+-----------+-------------+----+---------+----------+\n",
      "\n"
     ]
    }
   ],
   "source": [
    "# note messages and users have 'swapped sides' in the results and the code\n",
    "users.join(messages, on=[messages.user == users.id], how=\"right\").show(5, False)"
   ]
  },
  {
   "cell_type": "markdown",
   "id": "7f047693",
   "metadata": {},
   "source": [
    "## Full Outer\n",
    "\n",
    "Display data from either side, nulls where there is no match"
   ]
  },
  {
   "cell_type": "code",
   "execution_count": 8,
   "id": "93608886",
   "metadata": {},
   "outputs": [
    {
     "name": "stdout",
     "output_type": "stream",
     "text": [
      "+-------+-----------+-------------+----+---------+----------+----+---------+--------+----------+\n",
      "|m_title|m_body     |m_attachments|user|recipient|dt        |id  |firstname|lastname|dob       |\n",
      "+-------+-----------+-------------+----+---------+----------+----+---------+--------+----------+\n",
      "|null   |null       |null         |null|null     |null      |1   |John     |Smith   |2001-01-01|\n",
      "|Title  |Hello World|null         |2   |p@ch.com |2022-01-03|2   |Kim      |Melly   |1998-08-28|\n",
      "|Title 2|Hello World|null         |3   |d@ch.com |2022-01-02|null|null     |null    |null      |\n",
      "+-------+-----------+-------------+----+---------+----------+----+---------+--------+----------+\n",
      "\n"
     ]
    }
   ],
   "source": [
    "messages.join(users, on=[messages.user == users.id], how=\"outer\").show(5, False)"
   ]
  },
  {
   "cell_type": "markdown",
   "id": "1e8a0515",
   "metadata": {},
   "source": [
    "## Semi\n",
    "\n",
    "Rows from left side that match the right, but without the columns from the right."
   ]
  },
  {
   "cell_type": "code",
   "execution_count": 9,
   "id": "2d14fb6c",
   "metadata": {},
   "outputs": [
    {
     "name": "stdout",
     "output_type": "stream",
     "text": [
      "+-------+-----------+-------------+----+---------+----------+\n",
      "|m_title|m_body     |m_attachments|user|recipient|dt        |\n",
      "+-------+-----------+-------------+----+---------+----------+\n",
      "|Title  |Hello World|null         |2   |p@ch.com |2022-01-03|\n",
      "+-------+-----------+-------------+----+---------+----------+\n",
      "\n"
     ]
    }
   ],
   "source": [
    "messages.join(users, on=[messages.user == users.id], how=\"semi\").show(5, False)"
   ]
  },
  {
   "cell_type": "markdown",
   "id": "4f23de80",
   "metadata": {},
   "source": [
    "## Anti\n",
    "\n",
    "Opposite of semi, rows from left that *don't match* the right, and just the left sides columns/data."
   ]
  },
  {
   "cell_type": "code",
   "execution_count": 11,
   "id": "f52f5ebd",
   "metadata": {},
   "outputs": [
    {
     "name": "stdout",
     "output_type": "stream",
     "text": [
      "+-------+-----------+-------------+----+---------+----------+\n",
      "|m_title|m_body     |m_attachments|user|recipient|dt        |\n",
      "+-------+-----------+-------------+----+---------+----------+\n",
      "|Title 2|Hello World|null         |3   |d@ch.com |2022-01-02|\n",
      "+-------+-----------+-------------+----+---------+----------+\n",
      "\n"
     ]
    }
   ],
   "source": [
    "messages.join(users, on=[messages.user == users.id], how=\"anti\").show(5, False)"
   ]
  },
  {
   "cell_type": "code",
   "execution_count": null,
   "id": "0b3567e3",
   "metadata": {},
   "outputs": [],
   "source": []
  }
 ],
 "metadata": {
  "kernelspec": {
   "display_name": "Python 3 (ipykernel)",
   "language": "python",
   "name": "python3"
  },
  "language_info": {
   "codemirror_mode": {
    "name": "ipython",
    "version": 3
   },
   "file_extension": ".py",
   "mimetype": "text/x-python",
   "name": "python",
   "nbconvert_exporter": "python",
   "pygments_lexer": "ipython3",
   "version": "3.9.12"
  }
 },
 "nbformat": 4,
 "nbformat_minor": 5
}
