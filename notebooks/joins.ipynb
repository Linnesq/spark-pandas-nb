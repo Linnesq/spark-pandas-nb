{
 "cells": [
  {
   "cell_type": "code",
   "execution_count": 1,
   "id": "e283adc1",
   "metadata": {},
   "outputs": [],
   "source": [
    "from pyspark.sql.functions import *\n",
    "from pyspark.sql import SparkSession\n",
    "import os\n",
    "spark = SparkSession.builder.master(\"local\").getOrCreate()\n",
    "DATA_DIR = os.path.abspath(os.path.join(os.getcwd(), \"..\", \"data\"))"
   ]
  },
  {
   "cell_type": "code",
   "execution_count": 2,
   "id": "842fed28",
   "metadata": {},
   "outputs": [
    {
     "name": "stdout",
     "output_type": "stream",
     "text": [
      "+---+---------+--------+----------+\n",
      "|id |firstname|lastname|dob       |\n",
      "+---+---------+--------+----------+\n",
      "|1  |John     |Smith   |2001-01-01|\n",
      "|2  |Kim      |Melly   |1998-08-28|\n",
      "+---+---------+--------+----------+\n",
      "\n",
      "+---------+-----------------------+-------------+----+-----------+----------+\n",
      "|m_title  |m_body                 |m_attachments|user|recipient  |dt        |\n",
      "+---------+-----------------------+-------------+----+-----------+----------+\n",
      "|Title    |Hello World            |null         |2   |p@gmail.com|2022-01-03|\n",
      "|Title 2  |Hello World            |null         |3   |d@gmail.com|2022-01-02|\n",
      "|Spark SQL|Let's learn about spark|null         |2   |a@gmail.com|2022-01-03|\n",
      "+---------+-----------------------+-------------+----+-----------+----------+\n",
      "\n"
     ]
    }
   ],
   "source": [
    "users_path = f\"{DATA_DIR}/parquet/users\"\n",
    "messages_path = f\"{DATA_DIR}/parquet/messages\"\n",
    "users = spark.read.parquet(users_path)\n",
    "messages = spark.read.parquet(messages_path)\n",
    "users.show(5, False)\n",
    "messages.show(5, False)"
   ]
  },
  {
   "cell_type": "markdown",
   "id": "e7634153",
   "metadata": {},
   "source": [
    "## Inner join\n",
    "\n",
    "Records from both sides where the join key is found"
   ]
  },
  {
   "cell_type": "code",
   "execution_count": 3,
   "id": "9bd7e3ca",
   "metadata": {},
   "outputs": [
    {
     "name": "stdout",
     "output_type": "stream",
     "text": [
      "+---------+-----------------------+-------------+----+-----------+----------+---+---------+--------+----------+\n",
      "|m_title  |m_body                 |m_attachments|user|recipient  |dt        |id |firstname|lastname|dob       |\n",
      "+---------+-----------------------+-------------+----+-----------+----------+---+---------+--------+----------+\n",
      "|Title    |Hello World            |null         |2   |p@gmail.com|2022-01-03|2  |Kim      |Melly   |1998-08-28|\n",
      "|Spark SQL|Let's learn about spark|null         |2   |a@gmail.com|2022-01-03|2  |Kim      |Melly   |1998-08-28|\n",
      "+---------+-----------------------+-------------+----+-----------+----------+---+---------+--------+----------+\n",
      "\n"
     ]
    }
   ],
   "source": [
    "messages.join(users, on=[messages.user == users.id], how=\"inner\").show(5, False)"
   ]
  },
  {
   "cell_type": "markdown",
   "id": "5329e120",
   "metadata": {},
   "source": [
    "## Left join\n",
    "\n",
    "Records from left side with data from right side *if the join key matches*, otherwise nulls from right."
   ]
  },
  {
   "cell_type": "code",
   "execution_count": 4,
   "id": "f5d93351",
   "metadata": {},
   "outputs": [
    {
     "name": "stdout",
     "output_type": "stream",
     "text": [
      "+---------+-----------------------+-------------+----+-----------+----------+----+---------+--------+----------+\n",
      "|m_title  |m_body                 |m_attachments|user|recipient  |dt        |id  |firstname|lastname|dob       |\n",
      "+---------+-----------------------+-------------+----+-----------+----------+----+---------+--------+----------+\n",
      "|Title    |Hello World            |null         |2   |p@gmail.com|2022-01-03|2   |Kim      |Melly   |1998-08-28|\n",
      "|Title 2  |Hello World            |null         |3   |d@gmail.com|2022-01-02|null|null     |null    |null      |\n",
      "|Spark SQL|Let's learn about spark|null         |2   |a@gmail.com|2022-01-03|2   |Kim      |Melly   |1998-08-28|\n",
      "+---------+-----------------------+-------------+----+-----------+----------+----+---------+--------+----------+\n",
      "\n"
     ]
    }
   ],
   "source": [
    "messages.join(users, on=[messages.user == users.id], how=\"left\").show(5, False)"
   ]
  },
  {
   "cell_type": "markdown",
   "id": "c4cf68ca",
   "metadata": {},
   "source": [
    "## Right join\n",
    "\n",
    "As the left join, but reversed."
   ]
  },
  {
   "cell_type": "code",
   "execution_count": 5,
   "id": "c214fb31",
   "metadata": {},
   "outputs": [
    {
     "name": "stdout",
     "output_type": "stream",
     "text": [
      "+----+---------+--------+----------+---------+-----------------------+-------------+----+-----------+----------+\n",
      "|id  |firstname|lastname|dob       |m_title  |m_body                 |m_attachments|user|recipient  |dt        |\n",
      "+----+---------+--------+----------+---------+-----------------------+-------------+----+-----------+----------+\n",
      "|2   |Kim      |Melly   |1998-08-28|Title    |Hello World            |null         |2   |p@gmail.com|2022-01-03|\n",
      "|null|null     |null    |null      |Title 2  |Hello World            |null         |3   |d@gmail.com|2022-01-02|\n",
      "|2   |Kim      |Melly   |1998-08-28|Spark SQL|Let's learn about spark|null         |2   |a@gmail.com|2022-01-03|\n",
      "+----+---------+--------+----------+---------+-----------------------+-------------+----+-----------+----------+\n",
      "\n"
     ]
    }
   ],
   "source": [
    "# note messages and users have 'swapped sides' in the results and the code\n",
    "users.join(messages, on=[messages.user == users.id], how=\"right\").show(5, False)"
   ]
  },
  {
   "cell_type": "markdown",
   "id": "d94bd87f",
   "metadata": {},
   "source": [
    "## Full Outer\n",
    "\n",
    "Display data from either side, nulls where there is no match"
   ]
  },
  {
   "cell_type": "code",
   "execution_count": 6,
   "id": "78c9fc07",
   "metadata": {},
   "outputs": [
    {
     "name": "stdout",
     "output_type": "stream",
     "text": [
      "+---------+-----------------------+-------------+----+-----------+----------+----+---------+--------+----------+\n",
      "|m_title  |m_body                 |m_attachments|user|recipient  |dt        |id  |firstname|lastname|dob       |\n",
      "+---------+-----------------------+-------------+----+-----------+----------+----+---------+--------+----------+\n",
      "|null     |null                   |null         |null|null       |null      |1   |John     |Smith   |2001-01-01|\n",
      "|Title    |Hello World            |null         |2   |p@gmail.com|2022-01-03|2   |Kim      |Melly   |1998-08-28|\n",
      "|Spark SQL|Let's learn about spark|null         |2   |a@gmail.com|2022-01-03|2   |Kim      |Melly   |1998-08-28|\n",
      "|Title 2  |Hello World            |null         |3   |d@gmail.com|2022-01-02|null|null     |null    |null      |\n",
      "+---------+-----------------------+-------------+----+-----------+----------+----+---------+--------+----------+\n",
      "\n"
     ]
    }
   ],
   "source": [
    "messages.join(users, on=[messages.user == users.id], how=\"outer\").show(5, False)"
   ]
  },
  {
   "cell_type": "markdown",
   "id": "10dc7c22",
   "metadata": {},
   "source": [
    "## Semi\n",
    "\n",
    "Rows from left side that match the right, but without the columns from the right."
   ]
  },
  {
   "cell_type": "code",
   "execution_count": 7,
   "id": "36412d2c",
   "metadata": {},
   "outputs": [
    {
     "name": "stdout",
     "output_type": "stream",
     "text": [
      "+---------+-----------------------+-------------+----+-----------+----------+\n",
      "|m_title  |m_body                 |m_attachments|user|recipient  |dt        |\n",
      "+---------+-----------------------+-------------+----+-----------+----------+\n",
      "|Title    |Hello World            |null         |2   |p@gmail.com|2022-01-03|\n",
      "|Spark SQL|Let's learn about spark|null         |2   |a@gmail.com|2022-01-03|\n",
      "+---------+-----------------------+-------------+----+-----------+----------+\n",
      "\n"
     ]
    }
   ],
   "source": [
    "messages.join(users, on=[messages.user == users.id], how=\"semi\").show(5, False)"
   ]
  },
  {
   "cell_type": "markdown",
   "id": "d7fc7a6c",
   "metadata": {},
   "source": [
    "## Anti\n",
    "\n",
    "Opposite of semi, rows from left that *don't match* the right, and just the left sides columns/data."
   ]
  },
  {
   "cell_type": "code",
   "execution_count": 8,
   "id": "fdbf51f3",
   "metadata": {},
   "outputs": [
    {
     "name": "stdout",
     "output_type": "stream",
     "text": [
      "+-------+-----------+-------------+----+-----------+----------+\n",
      "|m_title|m_body     |m_attachments|user|recipient  |dt        |\n",
      "+-------+-----------+-------------+----+-----------+----------+\n",
      "|Title 2|Hello World|null         |3   |d@gmail.com|2022-01-02|\n",
      "+-------+-----------+-------------+----+-----------+----------+\n",
      "\n"
     ]
    }
   ],
   "source": [
    "messages.join(users, on=[messages.user == users.id], how=\"anti\").show(5, False)"
   ]
  },
  {
   "cell_type": "code",
   "execution_count": null,
   "id": "f61fd229",
   "metadata": {},
   "outputs": [],
   "source": []
  }
 ],
 "metadata": {
  "kernelspec": {
   "display_name": "Python 3 (ipykernel)",
   "language": "python",
   "name": "python3"
  },
  "language_info": {
   "codemirror_mode": {
    "name": "ipython",
    "version": 3
   },
   "file_extension": ".py",
   "mimetype": "text/x-python",
   "name": "python",
   "nbconvert_exporter": "python",
   "pygments_lexer": "ipython3",
   "version": "3.9.12"
  }
 },
 "nbformat": 4,
 "nbformat_minor": 5
}
